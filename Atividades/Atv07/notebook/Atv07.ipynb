{
 "cells": [
  {
   "cell_type": "markdown",
   "id": "cab6bad2-ca6d-416a-b20b-f6e50d675883",
   "metadata": {},
   "source": [
    "## Atv07"
   ]
  },
  {
   "cell_type": "markdown",
   "id": "b2b936ce-7e38-48f4-a9b1-55dc1a1f8a98",
   "metadata": {},
   "source": [
    "Apresente o trecho do código que armazena as notas em um array de cinco elementos."
   ]
  },
  {
   "cell_type": "code",
   "execution_count": null,
   "id": "424dd624-6111-465b-a71b-f38993dd6ce2",
   "metadata": {},
   "outputs": [],
   "source": [
    "int notas[] = new int[5];\n",
    "\n",
    "for (int i = 0; i < 5; i++) {\n",
    "    aux = JOptionPane.showInputDialog(\"Insira a nota da \" + (i + 1) + \" prova:\"); // Solicita ao usuário inserir a nota da prova atual\n",
    "    notas[i] = Integer.parseInt(aux); // Converte a nota para um número inteiro e a armazena no array \"notas\"\n",
    "    soma += notas[i]; // Calcula a soma total das notas\n",
    "}\n"
   ]
  },
  {
   "cell_type": "markdown",
   "id": "e65ee387-a7af-49ac-aea4-c3371aa7ebe1",
   "metadata": {},
   "source": [
    "Apresente a saída em tela das cinco notas em ordem decrescente (da maior para a menor) e a média aritmética das notas."
   ]
  },
  {
   "cell_type": "code",
   "execution_count": null,
   "id": "b969791d-8371-4e76-88d6-8cfe81db87a2",
   "metadata": {},
   "outputs": [],
   "source": [
    "// Ordenando as notas em ordem decrescente usando o algoritmo de ordenação por seleção\n",
    "for (int i = 0; i < notas.length - 1; i++) {\n",
    "    int maiorIndice = i; // Índice do elemento não ordenado atualmente como o maior\n",
    "    for (int j = i + 1; j < notas.length; j++) {\n",
    "        if (notas[j] > notas[maiorIndice]) { // Compara se o elemento atual é maior que o maior elemento encontrado até agora\n",
    "            maiorIndice = j; // Atualiza o índice do maior elemento\n",
    "        }\n",
    "    }\n",
    "    // Troca de posição o elemento atual com o maior elemento encontrado\n",
    "    int temp = notas[maiorIndice];\n",
    "    notas[maiorIndice] = notas[i];\n",
    "    notas[i] = temp;\n",
    "}\n",
    "\n",
    "// Construindo a representação das notas em ordem decrescente\n",
    "String notasOrdenadas = \"\";\n",
    "for (int num : notas) {\n",
    "    notasOrdenadas += num + \"; \";\n",
    "}\n",
    "\n",
    "// Calculando a média das notas\n",
    "float media = soma / 5;\n",
    "\n",
    "// Exibindo as notas em ordem decrescente e a média das notas em uma única caixa de diálogo\n",
    "String mensagem = \"Notas em ordem decrescente: \" + notasOrdenadas + \"\\nMédia das notas: \" + media;\n",
    "JOptionPane.showMessageDialog(null, mensagem);\n"
   ]
  },
  {
   "cell_type": "code",
   "execution_count": null,
   "id": "ccfbabc0",
   "metadata": {},
   "outputs": [],
   "source": []
  }
 ],
 "metadata": {
  "kernelspec": {
   "display_name": "Java",
   "language": "java",
   "name": "java"
  },
  "language_info": {
   "codemirror_mode": "text/x-java",
   "file_extension": ".java",
   "mimetype": "",
   "name": "Java",
   "nbconverter_exporter": "",
   "version": "1.8.0_121"
  }
 },
 "nbformat": 4,
 "nbformat_minor": 5
}
